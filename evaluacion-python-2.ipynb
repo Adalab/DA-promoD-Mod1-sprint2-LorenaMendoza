{
 "cells": [
  {
   "attachments": {},
   "cell_type": "markdown",
   "metadata": {},
   "source": [
    "En esta evaluación tendremos que crearnos una clase. Estamos trabajando para una editorial y tienen muchos ficheros de tipo .txt. Quieren hacer un estudio de palabras de los textos que tienen, para ello nos piden que nos creemos una clase que:\n",
    "\n",
    "- Reciba dos parámetros en el método constructor: \n",
    "\n",
    "    - La ruta donde se encuentra el fichero\n",
    "    - El nombre y la extensión del fichero que quieren abrir. \n",
    "\n",
    "- Tenga un método que nos abra el fichero en python, como un único *string*. Este método tiene que ser capaz de abrir cualquier tipo de fichero y que este ubicado en cualquier ubicación de nuestros ordenadores. \n",
    "\n",
    "- Tenga un método que lea un número \"X\" de palabras del texto. En este caso, el número de palabras que queremos leer debe ser un parámetro de este método. En este código deberemos incluir:\n",
    "    - Que si nos pasan como valor de número de palabras un número que no sea *integer*, nos salga un mensaje por pantalla que nos avise que la operación no se pueden hacer ya que necesitamos que sea un número *integer*. \n",
    "\n",
    "- Similar que en el paso anterior, crea un método que nos permita leer \"X\" lineas del texto. En este caso, el número de lineas que quiere leer el usuario no debe ser un parámetro del método. Tendremos que:\n",
    "\n",
    "    - Crear un *input* en el método que le pregunte al usuario cuántas líneas quiere leer\n",
    "\n",
    "    - Que tenga un control de errores por si el valor que nos pasa el usuario no es correcto, como por ejemplo un valor decimal. \n",
    "\n",
    "    - Además tenemos que tener en cuenta en el código que puede que el usuario quiera leer todas las líneas del archivo. Incluye en el programa el código necesario para que si el usuario nos indica que quiere leer todas las líneas el programa lo pueda hacer.  \n",
    " \n",
    "  **BONUS** En vez de devolver el resultado como una lista de *string* devuelvelo como un único *string*. \n",
    "\n",
    "- En este punto de la evaluación ya os habréis dado cuenta que en este fichero las primeras lineas no corresponden al quijote. Pero entonces... ¿en qué punto empieza el libro del quijote? En concreto, el libro está comprendido entre la lineas 1780 y 74276. Crea un método que solo nos devuelva el contenido del libro, sin la introducción inicial. \n",
    "\n",
    "\n",
    "-  Crea un último método en la clase que nos permita extraer las veces que aparece determinada palabra en el libro. Para eso este método deberá: \n",
    "\n",
    "    - Recibir la palabra o palabras que quiere buscar el usuario en el texto. \n",
    "    - Devolver el número de veces que aparece dicha palabra. \n",
    "    - Para confirmar que vuestro código, deberéis buscar las siguientes palabras como ejemplos de este método: \n",
    "\n",
    "        - Quijote, debemos tener en cuenta que aparezca en mayúscula o en minúscula, es decir, \"Quijote\" o \"quijote\"\n",
    "\n",
    "        - Alonso,  debemos tener en cuenta que aparezca en mayúscula o en minúscula, es decir, \"Quijote\" o \"quijote\"\n",
    "\n",
    "        - Don Quijote, debemos tener en cuenta que aparezca en mayúscula o en minúscula, es decir, \"Quijote\" o \"quijote\"\n",
    "    \n",
    "- **Nota**: Puede que tengáis algunos problemas para abrir el fichero, esto es por el `encoding` que tiene. Para solucionar este problema deberéis usar un encoding = \"latin-1\"\n",
    "\n",
    "- **Nota**: El fichero de `quijote.txt` debe encontrarse en una carpeta llamada `data`, diferente de donde se encuentra este fichero jupyter con la resolución."
   ]
  },
  {
   "cell_type": "code",
   "execution_count": 114,
   "metadata": {},
   "outputs": [],
   "source": [
    "import os"
   ]
  },
  {
   "cell_type": "code",
   "execution_count": 108,
   "metadata": {},
   "outputs": [],
   "source": [
    "class Editorial:\n",
    "    \"\"\"Esta clase se ha creado para trabajar con diferentes tipos de archivos. Recibe como parámetros la ruta relativa y el nombre del fichero,\n",
    "    la cual requiere de la extensión del archivo.\"\"\"\n",
    "\n",
    "    def __init__(self, ruta, nombre_fichero):\n",
    "        self.ruta = ruta\n",
    "        self.nombre_fichero = nombre_fichero\n",
    "    \n",
    "    def abrir_fichero (self, ruta, nombre_fichero):\n",
    "        \"\"\"Esta función abre al archivo y lo devuelve como lista. No necesita parámetros.\"\"\"\n",
    "\n",
    "        self.ruta = ruta\n",
    "        self.nombre_fichero = nombre_fichero\n",
    "\n",
    "        with open(f\"{self.ruta}/{self.nombre_fichero}\", 'r', encoding=\"latin-1\") as f:\n",
    "            fichero_base = f.read()\n",
    "        \n",
    "        return fichero_base\n",
    "    \n",
    "    def leer_palabras(self, num_palabras):\n",
    "        \"\"\"Esta función permite visualizar/leer el número de palabras deseadas por el usuario. Necesita un parámetro.\"\"\"\n",
    "\n",
    "        if isinstance(num_palabras, int) != True:\n",
    "            return f\"La operación no puede utilizarse, necesitamos que el número {num_palabras} sea un integer\"\n",
    "        else:\n",
    "            with open(f\"{self.ruta}/{self.nombre_fichero}\", 'r', encoding=\"latin-1\") as f:\n",
    "                fichero_base = f.read().split()\n",
    "                fichero_palabras = fichero_base [:num_palabras]\n",
    "                fichero_palabras = \" \".join(fichero_palabras)\n",
    "\n",
    "                return fichero_palabras \n",
    "    \n",
    "    def leer_lineas(self, num_palabras):\n",
    "        \"\"\"Esta función permite leer el número de líneas especificado por el usuario en el input (tipo integer).\"\"\"\n",
    "\n",
    "        num_lineas = int(input(\"Indique el número de líneas que desea leer en el presente archivo\"))\n",
    "        lineas = []\n",
    "        with open(f\"{self.ruta}/{self.nombre_fichero}\", 'r', encoding=\"latin-1\") as f:\n",
    "            for linea in range(num_lineas):\n",
    "                linea = f.readline().rstrip()\n",
    "                if not linea:\n",
    "                    break\n",
    "                lineas.append(linea)\n",
    "            return lineas\n",
    "\n",
    "    def quijote_sin_intro(self):\n",
    "        \"\"\"Esta función permite devolver el texto del archivo, que corresponde al inicio de la obra contenida,\n",
    "        que se inicia en línea 1780.\"\"\"\n",
    "\n",
    "\n",
    "        with open(f\"{self.ruta}/{self.nombre_fichero}\", 'r', encoding=\"latin-1\") as f:\n",
    "            lista_lineas_sin_intro = f.readlines()\n",
    "            return \" \".join(lista_lineas_sin_intro[1780:]) \n",
    "    \n",
    "\n",
    "    def contar_palabras(self,palabra):\n",
    "        \"\"\"Esta función permite contar el número de veces que aparecen las palabras que se quieran ver. Recibo como parámetro la palabra a contar(string).\"\"\"\n",
    "\n",
    "        with open(f\"{self.ruta}/{self.nombre_fichero}\", 'r', encoding = 'latin-1') as f:\n",
    "            archivo = f.read()\n",
    "            archivo = archivo.lower()\n",
    "            palabra_minus = palabra.lower()\n",
    "\n",
    "            return f\"La palabra {palabra_minus} se encuentra contenida en el texto {archivo.count(palabra_minus)} veces.\"\n",
    "\n",
    "\n",
    "\n"
   ]
  },
  {
   "cell_type": "code",
   "execution_count": null,
   "metadata": {},
   "outputs": [],
   "source": [
    "\n",
    "#En la clase he puesto un método simple pues me ha costado mucho llegar a él. Lo he intentado mejorar con condiciones, pero al indentarlo\n",
    "# me he estado volviendo un poco loca y tras varias pruebas, he decidido dejar el código simple y este ponerlo por separado.\n",
    "# El único problema es que no sé si realmente funciona. \n",
    "\n",
    "def leer_lineas (self):\n",
    "\n",
    "        num_lineas = int(input (\"Indique el número de líneas que desea leer en el presente archivo\"))\n",
    "        lineas = []\n",
    "\n",
    "        if isinstance(num_lineas,int) == True:\n",
    "            \n",
    "            with open(f\"{self.ruta}/{self.nombre_fichero}\", 'r', encoding=\"latin-1\") as f:\n",
    "                for linea in range(num_lineas):\n",
    "                    linea = f.readline().rstrip()\n",
    "                    if not linea:\n",
    "                          break\n",
    "                    lineas.append(linea)\n",
    "            return lineas\n",
    "\n",
    "        elif isinstance(num_lineas,int) != True:                        \n",
    "            return f\"La operación no puede realizarse, necesitamos que el número {num_lineas} que ha introducido sea de tipo integer.\"\n",
    "               \n",
    "        elif num_lineas == \"todas\":\n",
    "            return f.readlines()\n",
    "        \n",
    "        else:\n",
    "            return \"Perdone, ha habido un error de conexión. Por favor, vuelva a especificar el número de líneas que desea leer en formato numérico.\""
   ]
  },
  {
   "cell_type": "code",
   "execution_count": 84,
   "metadata": {},
   "outputs": [
    {
     "data": {
      "text/plain": [
       "'/home/adalaber/Escritorio/ADALAB/LORENA/CLASES/modulo1/evaluacion/DA-promoD-Mod1-sprint2-LorenaMendoza'"
      ]
     },
     "execution_count": 84,
     "metadata": {},
     "output_type": "execute_result"
    }
   ],
   "source": [
    "os.getcwd()"
   ]
  },
  {
   "cell_type": "code",
   "execution_count": 85,
   "metadata": {},
   "outputs": [],
   "source": [
    "mi_ruta = \"Datos/\"\n",
    "nombre_archivo = \"quijote.txt\""
   ]
  },
  {
   "cell_type": "code",
   "execution_count": 109,
   "metadata": {},
   "outputs": [],
   "source": [
    "texto_quijote = Editorial (\"Datos\", \"quijote.txt\")"
   ]
  },
  {
   "cell_type": "code",
   "execution_count": null,
   "metadata": {},
   "outputs": [],
   "source": [
    "texto_quijote.abrir_fichero(mi_ruta, nombre_archivo)"
   ]
  },
  {
   "cell_type": "code",
   "execution_count": 94,
   "metadata": {},
   "outputs": [
    {
     "data": {
      "text/plain": [
       "'Project Gutenberg Etext of Don Quijote, by Cervantes, in Spanish'"
      ]
     },
     "execution_count": 94,
     "metadata": {},
     "output_type": "execute_result"
    }
   ],
   "source": [
    "texto_quijote.leer_palabras(10)"
   ]
  },
  {
   "cell_type": "code",
   "execution_count": 99,
   "metadata": {},
   "outputs": [
    {
     "data": {
      "text/plain": [
       "['Project Gutenberg Etext of Don Quijote, by Cervantes, in Spanish']"
      ]
     },
     "execution_count": 99,
     "metadata": {},
     "output_type": "execute_result"
    }
   ],
   "source": [
    "texto_quijote.leer_lineas(4)"
   ]
  },
  {
   "cell_type": "code",
   "execution_count": null,
   "metadata": {},
   "outputs": [],
   "source": [
    "texto_quijote.quijote_sin_intro()"
   ]
  },
  {
   "cell_type": "code",
   "execution_count": 113,
   "metadata": {},
   "outputs": [
    {
     "data": {
      "text/plain": [
       "'La palabra don quijote se encuentra contenida en el texto 2013 veces.'"
      ]
     },
     "execution_count": 113,
     "metadata": {},
     "output_type": "execute_result"
    }
   ],
   "source": [
    "texto_quijote.contar_palabras(\"Don Quijote\")"
   ]
  }
 ],
 "metadata": {
  "kernelspec": {
   "display_name": "adalabenv",
   "language": "python",
   "name": "python3"
  },
  "language_info": {
   "codemirror_mode": {
    "name": "ipython",
    "version": 3
   },
   "file_extension": ".py",
   "mimetype": "text/x-python",
   "name": "python",
   "nbconvert_exporter": "python",
   "pygments_lexer": "ipython3",
   "version": "3.10.9"
  },
  "orig_nbformat": 4,
  "vscode": {
   "interpreter": {
    "hash": "0b8bbabd87d3ce636409443d1398e5656bf795e33c753b5e821c4b969f4e6c41"
   }
  }
 },
 "nbformat": 4,
 "nbformat_minor": 2
}
